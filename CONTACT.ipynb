{
 "cells": [
  {
   "cell_type": "code",
   "execution_count": 4,
   "id": "03443681-8128-44a7-bf7b-d8e07763fed7",
   "metadata": {},
   "outputs": [
    {
     "name": "stdout",
     "output_type": "stream",
     "text": [
      "\n",
      "==============================\n",
      "Contact Management System\n",
      "==============================\n",
      "\n",
      "1. Add New Contact\n",
      "2. View Contact List\n",
      "3. Search Contact\n",
      "4. Update Contact\n",
      "5. Delete Contact\n",
      "6. Exit\n"
     ]
    },
    {
     "name": "stdin",
     "output_type": "stream",
     "text": [
      "\n",
      "Enter your choice (1-6):  1\n"
     ]
    },
    {
     "name": "stdout",
     "output_type": "stream",
     "text": [
      "\n",
      "==============================\n",
      "Add New Contact\n",
      "==============================\n"
     ]
    },
    {
     "name": "stdin",
     "output_type": "stream",
     "text": [
      "Enter name:  AKSHAT\n",
      "Enter phone number:  1234567890\n",
      "Enter email:  ALK\n",
      "Enter address:  JDAJDKSCJ\n"
     ]
    },
    {
     "name": "stdout",
     "output_type": "stream",
     "text": [
      "\n",
      "✅ Contact 'AKSHAT' added successfully!\n"
     ]
    },
    {
     "name": "stdin",
     "output_type": "stream",
     "text": [
      "\n",
      "Press Enter to continue... \n"
     ]
    },
    {
     "name": "stdout",
     "output_type": "stream",
     "text": [
      "\n",
      "==============================\n",
      "Contact Management System\n",
      "==============================\n",
      "\n",
      "1. Add New Contact\n",
      "2. View Contact List\n",
      "3. Search Contact\n",
      "4. Update Contact\n",
      "5. Delete Contact\n",
      "6. Exit\n"
     ]
    },
    {
     "name": "stdin",
     "output_type": "stream",
     "text": [
      "\n",
      "Enter your choice (1-6):  2\n"
     ]
    },
    {
     "name": "stdout",
     "output_type": "stream",
     "text": [
      "\n",
      "==============================\n",
      "Contact List\n",
      "==============================\n",
      "\n",
      "No.  Name                Phone          \n",
      "----------------------------------------\n",
      "1    AKSHAT              1234567890     \n"
     ]
    },
    {
     "name": "stdin",
     "output_type": "stream",
     "text": [
      "\n",
      "Press Enter to continue... \n"
     ]
    },
    {
     "name": "stdout",
     "output_type": "stream",
     "text": [
      "\n",
      "==============================\n",
      "Contact Management System\n",
      "==============================\n",
      "\n",
      "1. Add New Contact\n",
      "2. View Contact List\n",
      "3. Search Contact\n",
      "4. Update Contact\n",
      "5. Delete Contact\n",
      "6. Exit\n"
     ]
    },
    {
     "name": "stdin",
     "output_type": "stream",
     "text": [
      "\n",
      "Enter your choice (1-6):  3\n"
     ]
    },
    {
     "name": "stdout",
     "output_type": "stream",
     "text": [
      "\n",
      "==============================\n",
      "Search Contact\n",
      "==============================\n"
     ]
    },
    {
     "name": "stdin",
     "output_type": "stream",
     "text": [
      "\n",
      "Enter name or phone number to search:  AKSHAT\n"
     ]
    },
    {
     "name": "stdout",
     "output_type": "stream",
     "text": [
      "\n",
      "Search Results:\n",
      "\n",
      "Name                Phone          Email                    Address                       \n",
      "--------------------------------------------------------------------------------\n",
      "AKSHAT              1234567890     ALK                      JDAJDKSCJ                     \n"
     ]
    },
    {
     "name": "stdin",
     "output_type": "stream",
     "text": [
      "\n",
      "Press Enter to continue... \n"
     ]
    },
    {
     "name": "stdout",
     "output_type": "stream",
     "text": [
      "\n",
      "==============================\n",
      "Contact Management System\n",
      "==============================\n",
      "\n",
      "1. Add New Contact\n",
      "2. View Contact List\n",
      "3. Search Contact\n",
      "4. Update Contact\n",
      "5. Delete Contact\n",
      "6. Exit\n"
     ]
    },
    {
     "name": "stdin",
     "output_type": "stream",
     "text": [
      "\n",
      "Enter your choice (1-6):  4\n"
     ]
    },
    {
     "name": "stdout",
     "output_type": "stream",
     "text": [
      "\n",
      "==============================\n",
      "Contact List\n",
      "==============================\n",
      "\n",
      "No.  Name                Phone          \n",
      "----------------------------------------\n",
      "1    AKSHAT              1234567890     \n"
     ]
    },
    {
     "name": "stdin",
     "output_type": "stream",
     "text": [
      "\n",
      "Enter the number of the contact to update:  1\n"
     ]
    },
    {
     "name": "stdout",
     "output_type": "stream",
     "text": [
      "\n",
      "Current Contact Details:\n",
      "Name: AKSHAT\n",
      "Phone: 1234567890\n",
      "Email: ALK\n",
      "Address: JDAJDKSCJ\n",
      "\n",
      "Enter new details (leave blank to keep current value):\n"
     ]
    },
    {
     "name": "stdin",
     "output_type": "stream",
     "text": [
      "Name [AKSHAT]:  \n",
      "Phone [1234567890]:  123456\n",
      "Email [ALK]:  1233\n",
      "Address [JDAJDKSCJ]:  34DD\n"
     ]
    },
    {
     "name": "stdout",
     "output_type": "stream",
     "text": [
      "\n",
      "✅ Contact 'AKSHAT' updated successfully!\n"
     ]
    },
    {
     "name": "stdin",
     "output_type": "stream",
     "text": [
      "\n",
      "Press Enter to continue... \n"
     ]
    },
    {
     "name": "stdout",
     "output_type": "stream",
     "text": [
      "\n",
      "==============================\n",
      "Contact Management System\n",
      "==============================\n",
      "\n",
      "1. Add New Contact\n",
      "2. View Contact List\n",
      "3. Search Contact\n",
      "4. Update Contact\n",
      "5. Delete Contact\n",
      "6. Exit\n"
     ]
    },
    {
     "name": "stdin",
     "output_type": "stream",
     "text": [
      "\n",
      "Enter your choice (1-6):  5\n"
     ]
    },
    {
     "name": "stdout",
     "output_type": "stream",
     "text": [
      "\n",
      "==============================\n",
      "Contact List\n",
      "==============================\n",
      "\n",
      "No.  Name                Phone          \n",
      "----------------------------------------\n",
      "1    AKSHAT              123456         \n"
     ]
    },
    {
     "name": "stdin",
     "output_type": "stream",
     "text": [
      "\n",
      "Enter the number of the contact to delete:  1\n"
     ]
    },
    {
     "name": "stdout",
     "output_type": "stream",
     "text": [
      "\n",
      "✅ Contact 'AKSHAT' deleted successfully!\n"
     ]
    },
    {
     "name": "stdin",
     "output_type": "stream",
     "text": [
      "\n",
      "Press Enter to continue... \n"
     ]
    },
    {
     "name": "stdout",
     "output_type": "stream",
     "text": [
      "\n",
      "==============================\n",
      "Contact Management System\n",
      "==============================\n",
      "\n",
      "1. Add New Contact\n",
      "2. View Contact List\n",
      "3. Search Contact\n",
      "4. Update Contact\n",
      "5. Delete Contact\n",
      "6. Exit\n"
     ]
    },
    {
     "name": "stdin",
     "output_type": "stream",
     "text": [
      "\n",
      "Enter your choice (1-6):  6\n"
     ]
    },
    {
     "name": "stdout",
     "output_type": "stream",
     "text": [
      "\n",
      "Thank you for using the Contact Management System!\n"
     ]
    }
   ],
   "source": [
    "class ContactManager:\n",
    "    def __init__(self): \n",
    "        self.contacts = []\n",
    "    \n",
    "    def add_contact(self):\n",
    "        print(\"\\n\" + \"=\"*30)\n",
    "        print(\"Add New Contact\")\n",
    "        print(\"=\"*30)\n",
    "        \n",
    "        name = input(\"Enter name: \").strip()\n",
    "        phone = input(\"Enter phone number: \").strip()\n",
    "        email = input(\"Enter email: \").strip()\n",
    "        address = input(\"Enter address: \").strip()\n",
    "        \n",
    "        contact = {\n",
    "            'name': name,\n",
    "            'phone': phone,\n",
    "            'email': email,\n",
    "            'address': address\n",
    "        }\n",
    "        \n",
    "        self.contacts.append(contact)\n",
    "        print(f\"\\n✅ Contact '{name}' added successfully!\")\n",
    "    \n",
    "    def view_contacts(self):\n",
    "        print(\"\\n\" + \"=\"*30)\n",
    "        print(\"Contact List\")\n",
    "        print(\"=\"*30)\n",
    "        \n",
    "        if not self.contacts:\n",
    "            print(\"No contacts found.\")\n",
    "            return\n",
    "        \n",
    "        print(f\"\\n{'No.':<5}{'Name':<20}{'Phone':<15}\")\n",
    "        print(\"-\"*40)\n",
    "        for i, contact in enumerate(self.contacts, 1):\n",
    "            print(f\"{i:<5}{contact['name']:<20}{contact['phone']:<15}\")\n",
    "    \n",
    "    def search_contact(self):\n",
    "        print(\"\\n\" + \"=\"*30)\n",
    "        print(\"Search Contact\")\n",
    "        print(\"=\"*30)\n",
    "        \n",
    "        search_term = input(\"\\nEnter name or phone number to search: \").strip().lower()\n",
    "        \n",
    "        results = []\n",
    "        for contact in self.contacts:\n",
    "            if (search_term in contact['name'].lower()) or (search_term in contact['phone']):\n",
    "                results.append(contact)\n",
    "        \n",
    "        if not results:\n",
    "            print(\"\\nNo matching contacts found.\")\n",
    "            return\n",
    "        \n",
    "        print(\"\\nSearch Results:\")\n",
    "        print(f\"\\n{'Name':<20}{'Phone':<15}{'Email':<25}{'Address':<30}\")\n",
    "        print(\"-\"*80)\n",
    "        for contact in results:\n",
    "            print(f\"{contact['name']:<20}{contact['phone']:<15}{contact['email']:<25}{contact['address']:<30}\")\n",
    "    \n",
    "    def update_contact(self):\n",
    "        self.view_contacts()\n",
    "        \n",
    "        if not self.contacts:\n",
    "            return\n",
    "        \n",
    "        try:\n",
    "            contact_num = int(input(\"\\nEnter the number of the contact to update: \")) - 1\n",
    "            if contact_num < 0 or contact_num >= len(self.contacts):\n",
    "                print(\"Invalid contact number.\")\n",
    "                return\n",
    "            \n",
    "            contact = self.contacts[contact_num]\n",
    "            print(\"\\nCurrent Contact Details:\")\n",
    "            print(f\"Name: {contact['name']}\")\n",
    "            print(f\"Phone: {contact['phone']}\")\n",
    "            print(f\"Email: {contact['email']}\")\n",
    "            print(f\"Address: {contact['address']}\")\n",
    "            \n",
    "            print(\"\\nEnter new details (leave blank to keep current value):\")\n",
    "            name = input(f\"Name [{contact['name']}]: \").strip() or contact['name']\n",
    "            phone = input(f\"Phone [{contact['phone']}]: \").strip() or contact['phone']\n",
    "            email = input(f\"Email [{contact['email']}]: \").strip() or contact['email']\n",
    "            address = input(f\"Address [{contact['address']}]: \").strip() or contact['address']\n",
    "            \n",
    "            self.contacts[contact_num] = {\n",
    "                'name': name,\n",
    "                'phone': phone,\n",
    "                'email': email,\n",
    "                'address': address\n",
    "            }\n",
    "            \n",
    "            print(f\"\\n✅ Contact '{name}' updated successfully!\")\n",
    "        \n",
    "        except ValueError:\n",
    "            print(\"Please enter a valid number.\")\n",
    "    \n",
    "    def delete_contact(self):\n",
    "        self.view_contacts()\n",
    "        \n",
    "        if not self.contacts:\n",
    "            return\n",
    "        \n",
    "        try:\n",
    "            contact_num = int(input(\"\\nEnter the number of the contact to delete: \")) - 1\n",
    "            if contact_num < 0 or contact_num >= len(self.contacts):\n",
    "                print(\"Invalid contact number.\")\n",
    "                return\n",
    "            \n",
    "            deleted_name = self.contacts[contact_num]['name']\n",
    "            del self.contacts[contact_num]\n",
    "            print(f\"\\n✅ Contact '{deleted_name}' deleted successfully!\")\n",
    "        \n",
    "        except ValueError:\n",
    "            print(\"Please enter a valid number.\")\n",
    "    \n",
    "    def menu(self):\n",
    "        while True:\n",
    "            print(\"\\n\" + \"=\"*30)\n",
    "            print(\"Contact Management System\")\n",
    "            print(\"=\"*30)\n",
    "            print(\"\\n1. Add New Contact\")\n",
    "            print(\"2. View Contact List\")\n",
    "            print(\"3. Search Contact\")\n",
    "            print(\"4. Update Contact\")\n",
    "            print(\"5. Delete Contact\")\n",
    "            print(\"6. Exit\")\n",
    "            \n",
    "            choice = input(\"\\nEnter your choice (1-6): \")\n",
    "            \n",
    "            if choice == '1':\n",
    "                self.add_contact()\n",
    "            elif choice == '2':\n",
    "                self.view_contacts()\n",
    "            elif choice == '3':\n",
    "                self.search_contact()\n",
    "            elif choice == '4':\n",
    "                self.update_contact()\n",
    "            elif choice == '5':\n",
    "                self.delete_contact()\n",
    "            elif choice == '6':\n",
    "                print(\"\\nThank you for using the Contact Management System!\")\n",
    "                break\n",
    "            else:\n",
    "                print(\"Invalid choice. Please enter a number between 1-6.\")\n",
    "            \n",
    "            input(\"\\nPress Enter to continue...\")\n",
    "\n",
    "# Start the program\n",
    "if __name__ == \"__main__\":\n",
    "    manager = ContactManager()\n",
    "    manager.menu()"
   ]
  },
  {
   "cell_type": "code",
   "execution_count": null,
   "id": "ddf62f03-e30a-4740-bf1c-cfb0d247aa56",
   "metadata": {},
   "outputs": [],
   "source": []
  }
 ],
 "metadata": {
  "kernelspec": {
   "display_name": "Python [conda env:base] *",
   "language": "python",
   "name": "conda-base-py"
  },
  "language_info": {
   "codemirror_mode": {
    "name": "ipython",
    "version": 3
   },
   "file_extension": ".py",
   "mimetype": "text/x-python",
   "name": "python",
   "nbconvert_exporter": "python",
   "pygments_lexer": "ipython3",
   "version": "3.12.7"
  }
 },
 "nbformat": 4,
 "nbformat_minor": 5
}
